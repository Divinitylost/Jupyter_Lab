{
 "cells": [
  {
   "cell_type": "code",
   "execution_count": null,
   "id": "5db68426-38a8-42e5-92f4-a18dbd6c3ed5",
   "metadata": {},
   "outputs": [],
   "source": [
    "#Week 1"
   ]
  },
  {
   "cell_type": "code",
   "execution_count": null,
   "id": "a80bce94-5864-421f-8df0-4d1c595a548a",
   "metadata": {},
   "outputs": [],
   "source": [
    "import numpy as np"
   ]
  },
  {
   "cell_type": "code",
   "execution_count": 5,
   "id": "fb0d3498-17e8-44e0-b05e-163c1972bdfa",
   "metadata": {},
   "outputs": [
    {
     "name": "stdout",
     "output_type": "stream",
     "text": [
      "[10 20 30]\n"
     ]
    }
   ],
   "source": [
    "number_array = np.array([10,20,30])\n",
    "print(number_array)"
   ]
  },
  {
   "cell_type": "code",
   "execution_count": 6,
   "id": "18c3f539-37ab-4f58-97f1-42e59cb2dc8b",
   "metadata": {},
   "outputs": [],
   "source": [
    "#To import a specific function from a package\n",
    "from math import radians"
   ]
  },
  {
   "cell_type": "code",
   "execution_count": 22,
   "id": "ba8192b0-82df-47b9-b4d4-3c9a5fe9c221",
   "metadata": {},
   "outputs": [
    {
     "name": "stdout",
     "output_type": "stream",
     "text": [
      "[19.59183673 20.45288532 23.12406059 33.05785124 25.74694432 22.24392361]\n",
      "20.45288531775018\n",
      "[False False False  True False False]\n",
      "[33.05785124]\n",
      "[19.59183673 20.45288532]\n",
      "[19.59183673 20.45288532 23.12406059 33.05785124]\n",
      "[25.74694432 22.24392361]\n"
     ]
    }
   ],
   "source": [
    "#Need to convert a List to an Array using Numpy to perform calculations\n",
    "height = (1.75,1.85,1.86,1.65,1.88,1.92)\n",
    "np_height = np.array(height)\n",
    "\n",
    "weight = (60,70,80,90,91,82)\n",
    "np_weight = np.array(weight)\n",
    "\n",
    "#Calculation\n",
    "bmi = np_weight/np_height**2\n",
    "\n",
    "#Print\n",
    "print(bmi)\n",
    "\n",
    "#print bmi of person 2\n",
    "print(bmi[1])\n",
    "print(bmi > 30)\n",
    "print(bmi[bmi > 30])\n",
    "print(bmi[0:2])\n",
    "print(bmi[:4])\n",
    "print(bmi[4:])\n",
    "\n"
   ]
  },
  {
   "cell_type": "code",
   "execution_count": null,
   "id": "321bc003-49e8-4468-a7f0-dbd39ff47b8a",
   "metadata": {},
   "outputs": [],
   "source": [
    "# 2D ARRAYS LECTURE\n",
    "\n",
    "np_2D = np.array([[1.75,1.85,1.86,1.65,1.88,1.92],[60,70,80,90,91,82]])\n",
    "\n",
    "print(np_2D)\n",
    "\n",
    "np_2D.shape # 2 rows and 6 columns. This is an attribute it does not require brackets\n",
    "\n",
    "#To select the row and column use the following syntax\n",
    "print(np_2D[1][2]) # from the second row select the third column\n",
    "print(np_2D[1,2]) # alternative method"
   ]
  },
  {
   "cell_type": "code",
   "execution_count": 34,
   "id": "eff86705-81da-48c5-8dbb-3821c05e03a6",
   "metadata": {},
   "outputs": [
    {
     "name": "stdout",
     "output_type": "stream",
     "text": [
      "[[ 1.85  1.86]\n",
      " [70.   80.  ]]\n",
      "[60. 70. 80. 90. 91. 82.]\n"
     ]
    }
   ],
   "source": [
    "#Select Multi values\n",
    "\n",
    "print(np_2D[:,1:3]) # both rows columns 1 and 2\n",
    "\n",
    "print(np_2D[1,:]) # row 2, all values"
   ]
  },
  {
   "cell_type": "code",
   "execution_count": 57,
   "id": "c229e686-1f7b-4b61-bb79-92fc5148c9ec",
   "metadata": {},
   "outputs": [
    {
     "name": "stdout",
     "output_type": "stream",
     "text": [
      "<class 'numpy.ndarray'>\n",
      "(4, 2)\n",
      "[[102.7]]\n",
      "102.7\n",
      "[210.   98.5]\n",
      "[[ 78.4]\n",
      " [102.7]\n",
      " [ 98.5]\n",
      " [ 75.2]]\n"
     ]
    }
   ],
   "source": [
    "# Create baseball, a list of lists\n",
    "baseball = [[180, 78.4],\n",
    "            [215, 102.7],\n",
    "            [210, 98.5],\n",
    "            [188, 75.2]]\n",
    "\n",
    "# Import numpy\n",
    "import numpy as np\n",
    "\n",
    "# Create a 2D numpy array from baseball: np_baseball\n",
    "np_baseball = np.array(baseball)\n",
    "\n",
    "# Print out the type of np_baseball\n",
    "print(type(np_baseball))\n",
    "\n",
    "# Print out the shape of np_baseball\n",
    "print(np_baseball.shape)\n",
    "\n",
    "# Print the third value\n",
    "print(np_baseball[1:2,1:2])\n",
    "print(np_baseball[1,1])\n",
    "print(np_baseball[2, :])\n",
    "print(np_baseball[:,1:])"
   ]
  },
  {
   "cell_type": "code",
   "execution_count": 89,
   "id": "361cee81-fbd6-4ae0-ad77-93be3637c8bb",
   "metadata": {},
   "outputs": [
    {
     "name": "stdout",
     "output_type": "stream",
     "text": [
      "[['25' '26' '27' '29' '32' '45' '23' '25' '26' '35' '44' '37' '20']\n",
      " ['m' 'f' 'f' 'f' 'm' 'm' 'f' 'f' 'm' 'm' 'm' 'f' 'f']]\n"
     ]
    }
   ],
   "source": [
    "# To complete statistical operations on an Array first need to do a subsetting operation to select the column\n",
    "\n",
    "age = [25,26,27,29,32,45,23,25,26,35,44,37,20]\n",
    "sex = [\"m\",\"f\",\"f\",\"f\",\"m\",\"m\",\"f\",\"f\",\"m\",\"m\",\"m\",\"f\",\"f\"]\n",
    "date_set = np.array([age]+[sex])\n",
    "#date_set = np.column_stack[age,sex]\n",
    "print(date_set)"
   ]
  },
  {
   "cell_type": "code",
   "execution_count": 90,
   "id": "2120ae78-56ac-4258-86ce-0da3a2591c81",
   "metadata": {},
   "outputs": [
    {
     "name": "stdout",
     "output_type": "stream",
     "text": [
      "(2, 13)\n"
     ]
    }
   ],
   "source": [
    "print(date_set.shape)"
   ]
  },
  {
   "cell_type": "code",
   "execution_count": null,
   "id": "4a5c71b4-e04e-486d-919d-24252e791dd9",
   "metadata": {},
   "outputs": [],
   "source": [
    "s_age = date_set[0,:]\n",
    "print(s_age)\n",
    "#av_age = np.mean(date_set[0,:])\n",
    "#print(av_age)"
   ]
  },
  {
   "cell_type": "code",
   "execution_count": 72,
   "id": "ccf2ba1a-3522-4dad-bc73-0b322689b2ba",
   "metadata": {},
   "outputs": [
    {
     "name": "stdout",
     "output_type": "stream",
     "text": [
      "<class 'numpy.ndarray'>\n"
     ]
    }
   ],
   "source": [
    "print(type(date_set))"
   ]
  },
  {
   "cell_type": "code",
   "execution_count": 130,
   "id": "dd54d5b7-e281-4a44-9d1d-b567fc6fb48f",
   "metadata": {},
   "outputs": [
    {
     "name": "stdout",
     "output_type": "stream",
     "text": [
      "[1.45415865 1.85101519 1.79148255]\n",
      "[70.14600471 70.22695783 69.65735049]\n",
      "[[ 1.45415865 70.14600471]\n",
      " [ 1.85101519 70.22695783]\n",
      " [ 1.79148255 69.65735049]]\n",
      "(3, 2)\n"
     ]
    }
   ],
   "source": [
    "#SIMULATED DATA SET\n",
    "\n",
    "height = np.random.normal(1.75,0.20,3) #mean, stddev, number\n",
    "print(height)\n",
    "\n",
    "weight = np.random.normal(70,0.3,3)\n",
    "print(weight)\n",
    "\n",
    "#np_people = np.array([height]+[weight])\n",
    "np_people = np.column_stack((height,weight)) #DOUBLE BRACKETS VERY IMPORTANT - THIS FUNCTION ALSO CHANGES THE SHAPE\n",
    "print(np_people)\n",
    "print(np_people.shape)"
   ]
  },
  {
   "cell_type": "code",
   "execution_count": 131,
   "id": "3f98cfc6-e0e3-4989-afdb-16f5932e4468",
   "metadata": {},
   "outputs": [
    {
     "name": "stdout",
     "output_type": "stream",
     "text": [
      "[1.45415865 1.85101519 1.79148255]\n"
     ]
    }
   ],
   "source": [
    "print(np_people[:,0])"
   ]
  },
  {
   "cell_type": "code",
   "execution_count": 132,
   "id": "0b7bd4f6-985c-41a1-8c90-484436f6e744",
   "metadata": {},
   "outputs": [
    {
     "name": "stdout",
     "output_type": "stream",
     "text": [
      "1.698885463797599\n"
     ]
    }
   ],
   "source": [
    "avg=np.mean(np_people[:,0])\n",
    "print(avg)"
   ]
  },
  {
   "cell_type": "code",
   "execution_count": 135,
   "id": "abf13331-ce50-4563-b839-c36566265021",
   "metadata": {},
   "outputs": [
    {
     "name": "stdout",
     "output_type": "stream",
     "text": [
      "[[ 1.         -0.24966671]\n",
      " [-0.24966671  1.        ]]\n"
     ]
    }
   ],
   "source": [
    "#corr = np.corrcoef(np_baseball[:,0], np_baseball[:,1])\n",
    "JPR = np.corrcoef(np_people[:,0],np_people[:,1])\n",
    "print(JPR)"
   ]
  }
 ],
 "metadata": {
  "kernelspec": {
   "display_name": "Python 3",
   "language": "python",
   "name": "python3"
  },
  "language_info": {
   "codemirror_mode": {
    "name": "ipython",
    "version": 3
   },
   "file_extension": ".py",
   "mimetype": "text/x-python",
   "name": "python",
   "nbconvert_exporter": "python",
   "pygments_lexer": "ipython3",
   "version": "3.8.8"
  }
 },
 "nbformat": 4,
 "nbformat_minor": 5
}

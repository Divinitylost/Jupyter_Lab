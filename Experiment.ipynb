{
 "cells": [
  {
   "cell_type": "code",
   "execution_count": null,
   "id": "c0e747a8-4169-46be-9819-a6ed57167700",
   "metadata": {},
   "outputs": [],
   "source": [
    "pip install datapackage"
   ]
  },
  {
   "cell_type": "code",
   "execution_count": null,
   "id": "0ce15d74-9f32-41cf-88da-17fc03861de4",
   "metadata": {},
   "outputs": [],
   "source": [
    "from datapackage import Package\n",
    "\n",
    "package = Package('https://datahub.io/sports-data/english-premier-league/datapackage.json')"
   ]
  },
  {
   "cell_type": "code",
   "execution_count": null,
   "id": "f63b860b-807e-42e4-847d-a2bc23a9fb21",
   "metadata": {},
   "outputs": [],
   "source": [
    "# print list of all resources:\n",
    "print(package.resource_names)\n"
   ]
  },
  {
   "cell_type": "code",
   "execution_count": null,
   "id": "ecb8ac0f-f320-4dfd-beb2-4541eac7ac91",
   "metadata": {},
   "outputs": [],
   "source": [
    "# print processed tabular data (if exists any)\n",
    "for resource in package.resources:\n",
    "    if resource.descriptor['datahub']['type'] == 'derived/csv':\n",
    "        print(resource.read())"
   ]
  },
  {
   "cell_type": "code",
   "execution_count": null,
   "id": "93e73bf5-685a-4e22-a30f-fcb3c0ae8986",
   "metadata": {},
   "outputs": [],
   "source": []
  }
 ],
 "metadata": {
  "kernelspec": {
   "display_name": "Python 3",
   "language": "python",
   "name": "python3"
  },
  "language_info": {
   "codemirror_mode": {
    "name": "ipython",
    "version": 3
   },
   "file_extension": ".py",
   "mimetype": "text/x-python",
   "name": "python",
   "nbconvert_exporter": "python",
   "pygments_lexer": "ipython3",
   "version": "3.8.8"
  }
 },
 "nbformat": 4,
 "nbformat_minor": 5
}
